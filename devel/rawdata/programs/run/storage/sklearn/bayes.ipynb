{
 "cells": [
  {
   "cell_type": "code",
   "execution_count": 27,
   "metadata": {},
   "outputs": [],
   "source": [
    "import numpy as np\n",
    "import pandas as pd\n",
    "import math\n",
    "from sklearn.naive_bayes import MultinomialNB\n",
    "\n",
    "\n",
    "def LoadData(filename):\n",
    "    data = pd.read_excel(filename, header=None)\n",
    "    dataval = data.values\n",
    "    return dataval"
   ]
  },
  {
   "cell_type": "code",
   "execution_count": 108,
   "metadata": {},
   "outputs": [
    {
     "name": "stdout",
     "output_type": "stream",
     "text": [
      "(22, 3)\n",
      "(22,)\n",
      "(23, 3)\n",
      "(23,)\n"
     ]
    }
   ],
   "source": [
    "X = LoadData(\"data/X.xlsx\")\n",
    "y = LoadData(\"data/y.xlsx\").reshape(-1)\n",
    "Xt = LoadData(\"data/X_test.xlsx\")\n",
    "yt = LoadData(\"data/y_test.xlsx\").reshape(-1)\n",
    "print(X.shape)\n",
    "print(y.shape)\n",
    "print(Xt.shape)\n",
    "print(yt.shape)"
   ]
  },
  {
   "cell_type": "code",
   "execution_count": 122,
   "metadata": {},
   "outputs": [
    {
     "name": "stdout",
     "output_type": "stream",
     "text": [
      "MultinomialNB(alpha=1.0, class_prior=None, fit_prior=False)\n",
      "0.5454545454545454\n",
      "[[1 1 1 1 1 1 1 1 1 1 1 2 2 2 2 2 2 2 3 3 3 4]\n",
      " [1 1 1 1 2 2 2 2 3 3 4 2 2 2 3 3 4 4 3 3 4 4]\n",
      " [1 2 3 4 1 2 3 4 3 4 4 2 3 4 3 4 1 4 3 4 4 4]]\n",
      "[1 1 1 1 2 2 2 2 2 2 3 3 3 3 3 3 3 3 3 3 3 4]\n",
      "[4 1 1 1 3 2 2 1 2 2 2 4 3 1 3 2 4 2 4 3 3 4]\n",
      "\n",
      "[[1 1 1 1 1 1 1 2 2 2 1 1 1 1 2 2 2 2 3 3 3 4 2]\n",
      " [1 1 1 1 2 2 2 2 2 2 2 3 3 4 3 3 4 4 3 3 4 4 4]\n",
      " [4 2 3 4 1 2 3 2 3 4 4 3 4 4 3 4 1 4 3 4 4 4 4]]\n",
      "[1 1 1 1 3 2 2 4 3 1 1 2 2 2 3 2 4 2 4 3 3 4 2]\n",
      "[1 1 1 1 1 2 3 2 2 2 3 3 3 3 3 3 3 3 3 3 3 3 3]\n"
     ]
    }
   ],
   "source": [
    "from sklearn.naive_bayes import MultinomialNB\n",
    "MB = MultinomialNB()\n",
    "MB.fit_prior=False\n",
    "print(MB)\n",
    "MB.fit(X, y)\n",
    "print(MB.score(X,y))\n",
    "print(X.T)\n",
    "print(y)\n",
    "print(MB.predict(X))\n",
    "print()\n",
    "print(Xt.T)\n",
    "print(MB.predict(Xt))\n",
    "print(yt)"
   ]
  },
  {
   "cell_type": "code",
   "execution_count": 110,
   "metadata": {},
   "outputs": [
    {
     "name": "stdout",
     "output_type": "stream",
     "text": [
      "0.6818181818181818\n",
      "[[1 1 1 1 1 1 1 1 1 1 1 2 2 2 2 2 2 2 3 3 3 4]\n",
      " [1 1 1 1 2 2 2 2 3 3 4 2 2 2 3 3 4 4 3 3 4 4]\n",
      " [1 2 3 4 1 2 3 4 3 4 4 2 3 4 3 4 1 4 3 4 4 4]]\n",
      "[1 1 1 1 2 2 2 2 2 2 3 3 3 3 3 3 3 3 3 3 3 4]\n",
      "[3 1 1 1 3 2 2 2 2 2 2 3 3 1 3 2 3 2 3 3 3 3]\n",
      "\n",
      "[[1 1 1 1 1 1 1 2 2 2 1 1 1 1 2 2 2 2 3 3 3 4 2]\n",
      " [1 1 1 1 2 2 2 2 2 2 2 3 3 4 3 3 4 4 3 3 4 4 4]\n",
      " [4 2 3 4 1 2 3 2 3 4 4 3 4 4 3 4 1 4 3 4 4 4 4]]\n",
      "[1 1 1 1 3 2 2 3 3 1 2 2 2 2 3 2 3 2 3 3 3 3 2]\n",
      "[1 1 1 1 1 2 3 2 2 2 3 3 3 3 3 3 3 3 3 3 3 3 3]\n"
     ]
    }
   ],
   "source": [
    "from sklearn.naive_bayes import ComplementNB\n",
    "CB = ComplementNB()\n",
    "CB.fit(X, y)\n",
    "print(CB.score(X,y))\n",
    "print(X.T)\n",
    "print(y)\n",
    "print(CB.predict(X))\n",
    "print()\n",
    "print(Xt.T)\n",
    "print(CB.predict(Xt))\n",
    "print(yt)"
   ]
  },
  {
   "cell_type": "code",
   "execution_count": 111,
   "metadata": {},
   "outputs": [
    {
     "name": "stdout",
     "output_type": "stream",
     "text": [
      "0.9545454545454546\n",
      "[[1 1 1 1 1 1 1 1 1 1 1 2 2 2 2 2 2 2 3 3 3 4]\n",
      " [1 1 1 1 2 2 2 2 3 3 4 2 2 2 3 3 4 4 3 3 4 4]\n",
      " [1 2 3 4 1 2 3 4 3 4 4 2 3 4 3 4 1 4 3 4 4 4]]\n",
      "[1 1 1 1 2 2 2 2 2 2 3 3 3 3 3 3 3 3 3 3 3 4]\n",
      "[1 1 1 1 2 2 2 2 2 2 2 3 3 3 3 3 3 3 3 3 3 4]\n",
      "\n",
      "[[1 1 1 1 1 1 1 2 2 2 1 1 1 1 2 2 2 2 3 3 3 4 2]\n",
      " [1 1 1 1 2 2 2 2 2 2 2 3 3 4 3 3 4 4 3 3 4 4 4]\n",
      " [4 2 3 4 1 2 3 2 3 4 4 3 4 4 3 4 1 4 3 4 4 4 4]]\n",
      "[1 1 1 1 2 2 2 3 3 3 2 2 2 2 3 3 3 3 3 3 3 4 3]\n",
      "[1 1 1 1 1 2 3 2 2 2 3 3 3 3 3 3 3 3 3 3 3 3 3]\n"
     ]
    }
   ],
   "source": [
    "from sklearn.naive_bayes import GaussianNB\n",
    "GB = GaussianNB()\n",
    "GB.fit(X, y)\n",
    "print(GB.score(X,y))\n",
    "print(X.T)\n",
    "print(y)\n",
    "print(GB.predict(X))\n",
    "print()\n",
    "print(Xt.T)\n",
    "print(GB.predict(Xt))\n",
    "print(yt)"
   ]
  },
  {
   "cell_type": "code",
   "execution_count": null,
   "metadata": {},
   "outputs": [],
   "source": []
  },
  {
   "cell_type": "code",
   "execution_count": null,
   "metadata": {},
   "outputs": [],
   "source": []
  }
 ],
 "metadata": {
  "kernelspec": {
   "display_name": "Python 3",
   "language": "python",
   "name": "python3"
  },
  "language_info": {
   "codemirror_mode": {
    "name": "ipython",
    "version": 3
   },
   "file_extension": ".py",
   "mimetype": "text/x-python",
   "name": "python",
   "nbconvert_exporter": "python",
   "pygments_lexer": "ipython3",
   "version": "3.7.0"
  }
 },
 "nbformat": 4,
 "nbformat_minor": 2
}
